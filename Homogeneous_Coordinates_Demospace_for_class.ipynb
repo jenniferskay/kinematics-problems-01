{
  "cells": [
    {
      "cell_type": "markdown",
      "id": "3cb86466",
      "metadata": {
        "id": "3cb86466"
      },
      "source": [
        "<h1 style=\"color:#EE3377\">\n",
        "     Robotics Homogeneous Coordinates Demospace for Class\n",
        "</h1>\n",
        "\n",
        "\n",
        "\n",
        "## Jennifer Kay <br> kay@rowan.edu <br> Rowan University Computer Science Department\n",
        "\n",
        "Last update: 2022-10-18\n",
        "<p>&nbsp;</p>\n",
        "<a rel=\"license\" href=\"http://creativecommons.org/licenses/by-nc-sa/4.0/\"><img align=\"left\" alt=\"Creative Commons License\" style=\"border-width:0\" src=\"https://i.creativecommons.org/l/by-nc-sa/4.0/88x31.png\" /></a><br /><p></p>This work is licensed under a <a rel=\"license\" href=\"http://creativecommons.org/licenses/by-nc-sa/4.0/\">Creative Commons Attribution-NonCommercial-ShareAlike 4.0 International License</a>.\n",
        "\n",
        "<ul>\n",
        "\n",
        "\n",
        "\n",
        "### Important Note Regarding Reuse of this Work: \n",
        "* This work **MAY NOT** be shared on commercial websites that charge users for content. \n",
        "* So, for example, it would be a breach of this license to post this (or anything derived from it) on chegg.com \n",
        "* Please see: http://creativecommons.org/licenses/by-nc-sa/4.0/  for the nitty gritty details \n",
        "</ul>\n"
      ]
    },
    {
      "cell_type": "markdown",
      "source": [
        "# Getting started: Step 1\n",
        "\n",
        "*   When you run the code block immediately following this text block titled \"Initialization 1\"\n",
        "  * It will produce a huge amount of output. You can ignore virtually all of it.\n",
        "  * You will know it has finished running because you will see a little check-box to the left of the run icon and also you'll see a message from me reminding you that you may have to restart the runtime\n",
        "\n",
        "\n",
        "    \n",
        "#<font color='green'>NOW DO THIS:</font>\n",
        "* <font color = 'green'>**Run the code block immediately following this text block titled \"Initialization 1\"** </font>\n",
        "* <font color = 'green'>**Restart the runtime** \n",
        "  * <font color = 'green'>Runtime menu -> Restart runtime \n",
        "  * <font color = 'green'>(It doesn't hurt to do it again even if you don't need to)\n",
        "  * <font color = 'green'>(You have to acknowledge that you really want to do this, and variables may be deleted ... that's really OK!)\n",
        "* **Run the \"Initialization 1 code block a second time!** </font>\n"
      ],
      "metadata": {
        "id": "3FiStrC1PIEE"
      },
      "id": "3FiStrC1PIEE"
    },
    {
      "cell_type": "code",
      "source": [
        "#@title Initialization 1 \n",
        "\n",
        "import datetime\n",
        "\n",
        "##########################################################\n",
        "# Printing a success message so reader feels good\n",
        "# \n",
        "# Also a little bit of a datetime demo\n",
        "\n",
        "def successMessage(thingToSay=\"\", closer = \"\"):\n",
        "  rightNow = datetime.datetime.now()\n",
        "  rightNowString = rightNow.strftime(\"%Y-%m-%d %H:%M:%S\") \n",
        "  stars = stars = \"*\"*100+\"\\n\"\n",
        "\n",
        "  header = footer = stars + stars\n",
        "  line1 = \"\\n\\t\\t\" + thingToSay + \"\\n\"\n",
        "  line2 = \"\\t\\t\\t\"\n",
        "  line2 += \"Finished at \" if closer==\"\" else closer\n",
        "  line2 += rightNowString + \"\\n\\n\"\n",
        "  \n",
        "  message = header + line1 + line2 + footer\n",
        "\n",
        "  print(message)\n",
        "\n",
        "\n",
        "\n",
        "!pip install ipympl --quiet\n",
        "!pip install requests --quiet\n",
        "\n",
        "\n",
        "\n",
        "successMessage (\"----> If this is your first time running this code in this session then go to <----\\n\\t\\t----> the Runtime menu and click 'restart runtime' and then run it again!! <-----\")\n",
        "\n",
        "\n"
      ],
      "metadata": {
        "id": "ZV08R_5iURLn",
        "cellView": "form",
        "colab": {
          "base_uri": "https://localhost:8080/"
        },
        "outputId": "4354788a-f5ac-4ac3-96ca-0a34dfb0687c"
      },
      "execution_count": null,
      "outputs": [
        {
          "output_type": "stream",
          "name": "stdout",
          "text": [
            "****************************************************************************************************\n",
            "****************************************************************************************************\n",
            "\n",
            "\t\t----> If this is your first time running this code in this session then go to <----\n",
            "\t\t----> the Runtime menu and click 'restart runtime' and then run it again!! <-----\n",
            "\t\t\tFinished at 2022-10-25 18:13:20\n",
            "\n",
            "****************************************************************************************************\n",
            "****************************************************************************************************\n",
            "\n"
          ]
        }
      ],
      "id": "ZV08R_5iURLn"
    },
    {
      "cell_type": "markdown",
      "source": [
        "# Getting Started: Step 2\n",
        "\n",
        "The \"Initialization 2\" Code below: \n",
        "* Just does some \n",
        " imports and customizations for numpy, matplotlib, and sympy\n",
        "* You shouldn't need to restart the runtime again\n",
        "\n",
        "#<font color='green'>NOW DO THIS:</font>\n",
        "* <font color = 'green'>**Run the code block immediately following this text block titled \"Initialization 2\"** </font>\n",
        "\n"
      ],
      "metadata": {
        "id": "LW6f-Ilk-Zpw"
      },
      "id": "LW6f-Ilk-Zpw"
    },
    {
      "cell_type": "code",
      "execution_count": null,
      "metadata": {
        "tags": [],
        "id": "3a62933f",
        "cellView": "form"
      },
      "outputs": [],
      "source": [
        "#@title Initialization 2\n",
        "\n",
        "\n",
        "#####################################################\n",
        "# General Imports and numpy / matplotlib / sympy   setup\n",
        "\n",
        "#allow support for 3rd party widgets (the matplotlib interactive stuff)\n",
        "from google.colab import output\n",
        "output.enable_custom_widget_manager()\n",
        "\n",
        "#you can disable the above by:\n",
        "#   from google.colab import output\n",
        "#   output.enable_custom_widget_manager()\n",
        "\n",
        "#display live figures in the notebook\n",
        "%matplotlib ipympl \n",
        "\n",
        "\n",
        "#stack overflow says calling a second time may prevent some graphics errors\n",
        "#%matplotlib notebook \n",
        "\n",
        "import matplotlib.pyplot as plt\n",
        "import numpy as np\n",
        "import sympy as sp\n",
        "import math\n",
        "\n",
        "import requests\n",
        "\n",
        "# ------------ copy file from url to local runtime environment ------------------- \n",
        "def copyFileToRuntime(url, filename):\n",
        "  r = requests.get(url)\n",
        "  with open(filename, 'w') as f:\n",
        "    f.write(r.text)\n",
        "\n",
        "# Add Dr. Kay's files to colab working directory\n",
        "url = \"https://raw.githubusercontent.com/jenniferskay/kinematics-problems-01/master/pythonFiles/\"\n",
        "filename = \"kayHomogeneousTransformations.py\"\n",
        "copyFileToRuntime(url+filename, filename)\n",
        "\n",
        "filename = \"kayHomogeneousTransformGraphics.py\"\n",
        "copyFileToRuntime(url+filename, filename)\n",
        "\n",
        "filename = \"kayColorPalette.py\"\n",
        "copyFileToRuntime(url+filename, filename)\n",
        "\n",
        "\n",
        "# set all numpy prints to just 3 decimal places\n",
        "np.set_printoptions(formatter={'float': lambda x: \"{0:0.3f}\".format(x)})   \n",
        "\n",
        "# import the code that Dr. Kay wrote\n",
        "import kayHomogeneousTransformations as ht\n",
        "import kayHomogeneousTransformGraphics as hg\n",
        "import kayColorPalette as cp\n",
        "\n",
        "\n",
        "\n"
      ],
      "id": "3a62933f"
    },
    {
      "cell_type": "markdown",
      "source": [
        "\n",
        "<img src = \"https://raw.githubusercontent.com/jenniferskay/kinematics-problems-01/master/graphics/fig02c.jpg\">\n",
        "<!-- <img src = \"graphics/fig02c.jpg\"> -->\n"
      ],
      "metadata": {
        "id": "8X1QBssmXZp3"
      },
      "id": "8X1QBssmXZp3"
    },
    {
      "cell_type": "code",
      "execution_count": 9,
      "id": "a99eeffd",
      "metadata": {
        "id": "a99eeffd",
        "colab": {
          "base_uri": "https://localhost:8080/"
        },
        "outputId": "b9cbec58-e97c-41e4-d95e-c922d5b119b7"
      },
      "outputs": [
        {
          "output_type": "stream",
          "name": "stdout",
          "text": [
            "(Frame Transform) F from w to r is Trans (10, 0, 0) which is the following 4x4 matrix:\n",
            "[[1.000 0.000 0.000 10.000]\n",
            " [0.000 1.000 0.000 0.000]\n",
            " [0.000 0.000 1.000 0.000]\n",
            " [0.000 0.000 0.000 1.000]]\n",
            "\n",
            "(Frame Transform) F from r to w is the inverse which is the following 4x4 matrix:\n",
            "[[1.000 0.000 0.000 -10.000]\n",
            " [0.000 1.000 0.000 0.000]\n",
            " [0.000 0.000 1.000 0.000]\n",
            " [0.000 0.000 0.000 1.000]]\n",
            "\n",
            "(Frame Transform) F from r to q is the inverse which is the following 4x4 matrix:\n",
            "[[0.000 -1.000 0.000 0.000]\n",
            " [1.000 0.000 0.000 0.000]\n",
            " [0.000 0.000 1.000 0.000]\n",
            " [0.000 0.000 0.000 1.000]]\n",
            "\n",
            "\n",
            "p1_world:\n",
            "[[0]\n",
            " [0]\n",
            " [0]\n",
            " [1]]\n",
            "\n",
            "p1_robot:\n",
            "[[-10]\n",
            " [  0]\n",
            " [  0]\n",
            " [  1]]\n",
            "\n",
            "p2_world:\n",
            "[[3.500]\n",
            " [0.000]\n",
            " [-1.500]\n",
            " [1.000]]\n",
            "\n",
            "p2_robot:\n",
            "[[-6.500]\n",
            " [0.000]\n",
            " [-1.500]\n",
            " [1.000]]\n",
            "Yay! Multiplication worked for point p1\n",
            "Yay! Multiplication worked for point p2\n"
          ]
        }
      ],
      "source": [
        "# Note that I'm declaring all of the variables outside of functions so they will be global. \n",
        "# Yes, global variables are often evil, but in the case of Jupyter notebooks, we need to keep\n",
        "# them global so that we can reuse them in future cells.\n",
        "\n",
        "# F from w to r\n",
        "print (\"(Frame Transform) F from w to r is Trans (10, 0, 0) which is the following 4x4 matrix:\" )\n",
        "frame_transform_w_r = ht.doTrans(10,0,0)\n",
        "print(frame_transform_w_r)\n",
        "print() # add a blank line to make it more readable\n",
        "\n",
        "# F from r to w using the matrix inversion functionality of numpy\n",
        "print (\"(Frame Transform) F from r to w is the inverse which is the following 4x4 matrix:\" )\n",
        "frame_transform_r_w = np.linalg.inv(frame_transform_w_r) # using numpy matrix inversion\n",
        "print(frame_transform_r_w)\n",
        "print() # add a blank line to make it more readable\n",
        "\n",
        "homogeneous_transform_w_r = frame_transform_r_w\n",
        "homogeneous_transform_r_w = frame_transform_w_r\n",
        "    \n",
        "# q coords is r coords rotated about z by 90 degrees\n",
        "frame_transform_r_q = ht.degreesRotZ(90)\n",
        "print (\"(Frame Transform) F from r to q is the inverse which is the following 4x4 matrix:\" )\n",
        "print(frame_transform_r_q)\n",
        "print() # add a blank line to make it more readable\n",
        "\n",
        "\n",
        "p1_world = ht.makePoint(0,0,0)\n",
        "p1_robot = ht.makePoint(-10,0,0)\n",
        "\n",
        "p2_world = ht.makePoint(3.5, 0, -1.5)\n",
        "p2_robot = ht.makePoint(-6.5, 0, -1.5)\n",
        "\n",
        "\n",
        "for tempPair in ((p1_world, \"p1_world\"), (p1_robot, \"p1_robot\"), (p2_world, \"p2_world\"), (p2_robot, \"p2_robot\")):\n",
        "    print (\"\\n\" + tempPair[1]+\":\")\n",
        "    print (tempPair[0])\n",
        "\n",
        "\n",
        "p1_from_world_to_robot = np.matmul(homogeneous_transform_w_r, p1_world)\n",
        "if np.array_equal(p1_from_world_to_robot, p1_robot):\n",
        "    print(\"Yay! Multiplication worked for point p1\")\n",
        "else:\n",
        "    print(\"************* Problem multiplication did NOT work for point p1\")\n",
        "        \n",
        "        \n",
        "p2_from_robot_to_world = np.matmul(homogeneous_transform_r_w, p2_robot)\n",
        "if np.array_equal(p2_from_robot_to_world, p2_world):\n",
        "    print(\"Yay! Multiplication worked for point p2\")\n",
        "else:\n",
        "    print(\"************* Problem multiplication did NOT work for point p2\")\n"
      ]
    }
  ],
  "metadata": {
    "kernelspec": {
      "display_name": "Python 3 (ipykernel)",
      "language": "python",
      "name": "python3"
    },
    "language_info": {
      "codemirror_mode": {
        "name": "ipython",
        "version": 3
      },
      "file_extension": ".py",
      "mimetype": "text/x-python",
      "name": "python",
      "nbconvert_exporter": "python",
      "pygments_lexer": "ipython3",
      "version": "3.9.7"
    },
    "colab": {
      "provenance": [],
      "collapsed_sections": []
    }
  },
  "nbformat": 4,
  "nbformat_minor": 5
}