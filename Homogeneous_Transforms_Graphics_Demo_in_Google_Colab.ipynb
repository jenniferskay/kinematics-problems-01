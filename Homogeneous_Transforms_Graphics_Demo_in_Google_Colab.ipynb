{
  "cells": [
    {
      "cell_type": "markdown",
      "id": "6942ca41",
      "metadata": {
        "id": "6942ca41"
      },
      "source": [
        "# Robotics Homogeneous Transforms Graphics Demo in Google CoLab\n",
        "## Jennifer Kay <br> kay@rowan.edu <br> Rowan University Computer Science Department\n",
        "\n",
        "Last update: 2022-10-17\n",
        "<p>&nbsp;</p>\n",
        "<a rel=\"license\" href=\"http://creativecommons.org/licenses/by-nc-sa/4.0/\"><img align=\"left\" alt=\"Creative Commons License\" style=\"border-width:0\" src=\"https://i.creativecommons.org/l/by-nc-sa/4.0/88x31.png\" /></a><br /><p></p>This work is licensed under a <a rel=\"license\" href=\"http://creativecommons.org/licenses/by-nc-sa/4.0/\">Creative Commons Attribution-NonCommercial-ShareAlike 4.0 International License</a>.\n",
        "<p>\n",
        "\n",
        "<ul>\n",
        "\n",
        "\n",
        "\n",
        "### Important Note Regarding Reuse of this Work: \n",
        "* This work **MAY NOT** be shared on commercial websites that charge users for content. \n",
        "* So, for example, it would be a breach of this license to post this code on chegg.com \n",
        "* Please see: http://creativecommons.org/licenses/by-nc-sa/4.0/  for the nitty gritty details \n",
        "</ul>\n"
      ]
    },
    {
      "cell_type": "markdown",
      "source": [
        "# Getting started: Step 1\n",
        "\n",
        "*   When you run the code block immediately following this text block titled \"Initialization 1\"\n",
        "  * It will produce a huge amount of output. You can ignore virtually all of it.\n",
        "  * You will know it has finished running because you will see a little check-box to the left of the run icon and also you'll see a message from me reminding you that you may have to restart the runtime\n",
        "\n",
        "\n",
        "    \n",
        "#<font color='green'>NOW DO THIS:</font>\n",
        "* <font color = 'green'>**Run the code block immediately following this text block titled \"Initialization 1\"** </font>\n",
        "* <font color = 'green'>**Restart the runtime** \n",
        "  * <font color = 'green'>Runtime menu -> Restart runtime \n",
        "  * <font color = 'green'>(It doesn't hurt to do it again even if you don't need to)\n",
        "  * <font color = 'green'>(You have to acknowledge that you really want to do this, and variables may be deleted ... that's really OK!)\n",
        "* **Run the \"Initialization 1 code block a second time!** </font>\n"
      ],
      "metadata": {
        "id": "3FiStrC1PIEE"
      },
      "id": "3FiStrC1PIEE"
    },
    {
      "cell_type": "code",
      "source": [
        "#@title Initialization 1 \n",
        "\n",
        "import datetime\n",
        "\n",
        "##########################################################\n",
        "# Printing a success message so reader feels good\n",
        "# \n",
        "# Also a little bit of a datetime demo\n",
        "\n",
        "def successMessage(thingToSay=\"\", closer = \"\"):\n",
        "  rightNow = datetime.datetime.now()\n",
        "  rightNowString = rightNow.strftime(\"%Y-%m-%d %H:%M:%S\") \n",
        "  stars = stars = \"*\"*100+\"\\n\"\n",
        "\n",
        "  header = footer = stars + stars\n",
        "  line1 = \"\\n\\t\\t\" + thingToSay + \"\\n\"\n",
        "  line2 = \"\\t\\t\\t\"\n",
        "  line2 += \"Finished at \" if closer==\"\" else closer\n",
        "  line2 += rightNowString + \"\\n\\n\"\n",
        "  \n",
        "  message = header + line1 + line2 + footer\n",
        "\n",
        "  print(message)\n",
        "\n",
        "\n",
        "\n",
        "!pip install ipympl --quiet\n",
        "!pip install requests --quiet\n",
        "\n",
        "\n",
        "\n",
        "successMessage (\"----> If this is your first time running this code in this session then go to <----\\n\\t\\t----> the Runtime menu and click 'restart runtime' and then run it again!! <-----\")\n",
        "\n",
        "\n"
      ],
      "metadata": {
        "id": "ZV08R_5iURLn",
        "cellView": "form"
      },
      "id": "ZV08R_5iURLn",
      "execution_count": null,
      "outputs": []
    },
    {
      "cell_type": "markdown",
      "source": [
        "# Getting Started: Step 2\n",
        "\n",
        "The \"Initialization 2\" Code below: \n",
        "* Just does some \n",
        " imports and customizations for numpy, matplotlib, and sympy\n",
        "* You shouldn't need to restart the runtime again\n",
        "\n",
        "#<font color='green'>NOW DO THIS:</font>\n",
        "* <font color = 'green'>**Run the code block immediately following this text block titled \"Initialization 2\"** </font>\n",
        "\n"
      ],
      "metadata": {
        "id": "LW6f-Ilk-Zpw"
      },
      "id": "LW6f-Ilk-Zpw"
    },
    {
      "cell_type": "code",
      "execution_count": null,
      "id": "3a62933f",
      "metadata": {
        "tags": [],
        "id": "3a62933f",
        "cellView": "form"
      },
      "outputs": [],
      "source": [
        "#@title Initialization 2\n",
        "\n",
        "\n",
        "#####################################################\n",
        "# General Imports and numpy / matplotlib / sympy   setup\n",
        "\n",
        "#allow support for 3rd party widgets (the matplotlib interactive stuff)\n",
        "from google.colab import output\n",
        "output.enable_custom_widget_manager()\n",
        "\n",
        "#you can disable the above by:\n",
        "#   from google.colab import output\n",
        "#   output.enable_custom_widget_manager()\n",
        "\n",
        "#display live figures in the notebook\n",
        "%matplotlib ipympl \n",
        "\n",
        "\n",
        "#stack overflow says calling a second time may prevent some graphics errors\n",
        "#%matplotlib notebook \n",
        "\n",
        "import matplotlib.pyplot as plt\n",
        "import numpy as np\n",
        "import sympy as sp\n",
        "import math\n",
        "\n",
        "import requests\n",
        "\n",
        "# ------------ copy file from url to local runtime environment ------------------- \n",
        "def copyFileToRuntime(url, filename):\n",
        "  r = requests.get(url)\n",
        "  with open(filename, 'w') as f:\n",
        "    f.write(r.text)\n",
        "\n",
        "# Add Dr. Kay's files to colab working directory\n",
        "url = \"https://raw.githubusercontent.com/jenniferskay/kinematics-problems-01/master/pythonFiles/\"\n",
        "filename = \"kayHomogeneousTransformations.py\"\n",
        "copyFileToRuntime(url+filename, filename)\n",
        "\n",
        "filename = \"kayHomogeneousTransformGraphics.py\"\n",
        "copyFileToRuntime(url+filename, filename)\n",
        "\n",
        "filename = \"kayColorPalette.py\"\n",
        "copyFileToRuntime(url+filename, filename)\n",
        "\n",
        "\n",
        "# set all numpy prints to just 3 decimal places\n",
        "np.set_printoptions(formatter={'float': lambda x: \"{0:0.3f}\".format(x)})   \n",
        "\n",
        "# import the code that Dr. Kay wrote\n",
        "import kayHomogeneousTransformations as ht\n",
        "import kayHomogeneousTransformGraphics as hg\n",
        "import kayColorPalette as cp\n",
        "\n",
        "\n",
        "\n"
      ]
    },
    {
      "cell_type": "markdown",
      "id": "091b4b89-b3d0-4715-b627-2bf115cf8cc6",
      "metadata": {
        "id": "091b4b89-b3d0-4715-b627-2bf115cf8cc6"
      },
      "source": [
        "# A little more information about Dr. Kay's code that was just loaded in Initialization 2 above\n",
        "\n",
        "If you open the files tab on the far left, you'll see three files that were just added. You can view them by clicking on the files at the left, or find them on github at the links provided below. \n",
        "## <a href = \"https://raw.githubusercontent.com/jenniferskay/kinematics-problems-01/master/pythonFiles/kayColorPalette.py\">kayColorPalette.py</a>\n",
        "Specifying a set of colors that make up a color-blind friendly palette\n",
        "\n",
        "## <a href = \"https://raw.githubusercontent.com/jenniferskay/kinematics-problems-01/master/pythonFiles/kayHomogeneousTransformations.py\">kayHomogeneousTransformations.py</a>\n",
        "\n",
        "This is an attempt to make it easier to work with homogeneous transformations in python without having to write everything from scratch. It's based on the <a href = \"https://numpy.org/\"> numpy</a> library. You may find it useful to take a look at this <a href = \"https://numpy.org/devdocs/user/absolute_beginners.html\"> numpy for absolute beginners</a> document. \n",
        "    \n",
        "I use numpy matrices to represent homogeneous transforms so we can take advantage\n",
        "of the matrix multiplication functionality. For the full information you should go look at the code\n",
        "\n",
        "  \n",
        "## <a href = \"https://raw.githubusercontent.com/jenniferskay/kinematics-problems-01/master/pythonFiles/kayHomogeneousTransformGraphics.py\">kayHomogeneousTransformGraphics.py</a>\n",
        "\n",
        "Take a look at the source code to see the functionality that I provide. \n",
        "\n",
        "\n",
        "\n",
        "\n"
      ]
    },
    {
      "cell_type": "markdown",
      "id": "b03bb051",
      "metadata": {
        "id": "b03bb051"
      },
      "source": [
        "# Drawing 3-D graphs\n",
        "I've written some functions that should make drawing 3-D coordinate frames much easier. Feel free to look at the code in my `homogeneousTransformGraphics.py` file, if you're interested, but you can also feel free to just use my code. \n"
      ]
    },
    {
      "cell_type": "code",
      "execution_count": null,
      "id": "bdaf6d8b",
      "metadata": {
        "tags": [],
        "id": "bdaf6d8b"
      },
      "outputs": [],
      "source": [
        "#example01\n",
        "\n",
        "def example01():\n",
        "    # Create a 4x4 identity matrix using numpy (we already imported numpy as np above)\n",
        "    simpleFrame = np.identity(4)   \n",
        "    \n",
        "    # Create a new graphical 3-D figure\n",
        "    # The default layout goes from 0 to 1 on each axis\n",
        "    fig, ax = hg.createNewBlank3DFigure()\n",
        "    \n",
        "    # Draw our frame in the figure. Each axis will be of length 1\n",
        "    hg.draw3DFrame(ax, simpleFrame)\n",
        "    \n",
        "example01()\n"
      ]
    },
    {
      "cell_type": "code",
      "execution_count": null,
      "id": "9fe6f400",
      "metadata": {
        "tags": [],
        "id": "9fe6f400"
      },
      "outputs": [],
      "source": [
        "# Example02\n",
        "# The only difference is that now we don't use the default x,y,and z limits of 0 to 1 to define the background \n",
        "# frame, but set each one uniquely. \n",
        "# As a result each axis has a different scale - each \"arrow\" is still one unit long, but they appear to \n",
        "# be different lengths\n",
        "\n",
        "def example02():\n",
        "    simpleFrame = np.identity(4)\n",
        "    fig, ax = hg.createNewBlank3DFigure(xLim=(-1,1), yLim=(-2,1), zLim =(0, 4))\n",
        "    hg.draw3DFrame(ax, simpleFrame)\n",
        "    \n",
        "example02()\n"
      ]
    },
    {
      "cell_type": "code",
      "execution_count": null,
      "id": "bb95db99",
      "metadata": {
        "tags": [],
        "id": "bb95db99"
      },
      "outputs": [],
      "source": [
        "# Example03\n",
        "# We can put a title on a graph\n",
        "\n",
        "def example03():\n",
        "    simpleFrame = np.identity(4)\n",
        "    fig, ax = hg.createNewBlank3DFigure(xLim=(-1,1), yLim=(-2,1), zLim =(0, 4), \n",
        "                                        title = \"Note that the scale is different for each axis!\")\n",
        "    hg.draw3DFrame(ax, simpleFrame)\n",
        "    \n",
        "example03()\n"
      ]
    },
    {
      "cell_type": "code",
      "execution_count": null,
      "id": "4ea8683b",
      "metadata": {
        "tags": [],
        "id": "4ea8683b"
      },
      "outputs": [],
      "source": [
        "# Example 04 \n",
        "# Add to the axis label\n",
        "\n",
        "def example04():\n",
        "    simpleFrame = np.identity(4)\n",
        "    fig, ax = hg.createNewBlank3DFigure(xLim=(-1,2), yLim=(-1,2), zLim =(-1, 2), \n",
        "                                        title = \"That feels better\")\n",
        "    hg.draw3DFrame(ax, simpleFrame, labelExtra = \"-world\")\n",
        "    \n",
        "example04()\n"
      ]
    },
    {
      "cell_type": "code",
      "execution_count": null,
      "id": "24b13667",
      "metadata": {
        "tags": [],
        "id": "24b13667"
      },
      "outputs": [],
      "source": [
        "# Example 05 \n",
        "# Change color\n",
        "\n",
        "def example05():\n",
        "    simpleFrame = np.identity(4)\n",
        "    fig, ax = hg.createNewBlank3DFigure()\n",
        "    hg.draw3DFrame(ax, simpleFrame, colorChoice = \"blue\")\n",
        "    \n",
        "example05()\n"
      ]
    },
    {
      "cell_type": "code",
      "execution_count": null,
      "id": "b78b11e2",
      "metadata": {
        "tags": [],
        "id": "b78b11e2"
      },
      "outputs": [],
      "source": [
        "# Example 06 \n",
        "# Change Length of the axes and use a color from my color palette\n",
        "\n",
        "def example06():\n",
        "    simpleFrame = np.identity(4)\n",
        "    fig, ax = hg.createNewBlank3DFigure()\n",
        "    hg.draw3DFrame(ax, simpleFrame, colorChoice = cp.one, axisLength = 0.6)\n",
        "    \n",
        "example06()\n"
      ]
    },
    {
      "cell_type": "markdown",
      "id": "02d78f73",
      "metadata": {
        "id": "02d78f73"
      },
      "source": [
        "# Plotting some points"
      ]
    },
    {
      "cell_type": "code",
      "execution_count": null,
      "id": "cc39f322",
      "metadata": {
        "id": "cc39f322"
      },
      "outputs": [],
      "source": [
        "def pointer():\n",
        "    fig, ax = hg.createNewBlank3DFigure()\n",
        "    p1 = ht.makePoint(0, 0.5, 1)\n",
        "    p2 = ht.makePoint(1, 0.5, 0.5)\n",
        "    p3 = ht.makePoint(0, 0, 0)\n",
        "    hg.plot3DPoint(ax,p1, labelExtra=\"-p1\", colorChoice = cp.one)\n",
        "    hg.plot3DPoint(ax,p2, labelExtra=\"-p2\", colorChoice =cp.two)\n",
        "    hg.plot3DPoint(ax,p3, labelExtra=\"-p3\", colorChoice =cp.three)\n",
        "    \n",
        "pointer()"
      ]
    },
    {
      "cell_type": "markdown",
      "id": "b42d6d4b",
      "metadata": {
        "id": "b42d6d4b"
      },
      "source": [
        "# More Complicated Graphs\n"
      ]
    },
    {
      "cell_type": "code",
      "execution_count": null,
      "id": "677ebb65",
      "metadata": {
        "tags": [],
        "id": "677ebb65"
      },
      "outputs": [],
      "source": [
        "def test1():\n",
        "    origin = np.identity(4)\n",
        "    thing = ht.degreesRotX(90)\n",
        "\n",
        "    fig, ax = hg.createNewBlank3DFigure(xLim=(-1,1), yLim=(-1,1), zLim =(-1, 1))\n",
        "\n",
        "    hg.draw3DFrame(ax, thing, labelExtra=\"-try1\", colorChoice=cp.two, labelOffset = 0.75)\n",
        "    hg.draw3DFrame(ax, origin, colorChoice=cp.three)\n",
        "\n",
        "    plt.show()\n",
        "         \n",
        "test1()\n",
        "\n"
      ]
    },
    {
      "cell_type": "code",
      "execution_count": null,
      "id": "6be9f63b",
      "metadata": {
        "jupyter": {
          "source_hidden": true
        },
        "id": "6be9f63b"
      },
      "outputs": [],
      "source": [
        "def test2():\n",
        "    origin = np.identity(4)\n",
        "    rot = ht.degreesRotX(90)\n",
        "    trans = ht.doTrans(0,1,0)\n",
        "    result = np.matmul(rot, trans)\n",
        "    \n",
        "    fig, ax = hg.createNewBlank3DFigure(xLim=(-1,1), yLim=(-1,1), zLim =(-1, 1))\n",
        "    hg.draw3DFrame(ax, origin, colorChoice = cp.five)\n",
        "    hg.draw3DFrame(ax, result, labelExtra = \"'\", colorChoice=cp.four, labelOffset = 0.75)\n",
        "   \n",
        "    plt.show()\n",
        "    \n",
        "test2()\n",
        "    "
      ]
    },
    {
      "cell_type": "code",
      "execution_count": null,
      "id": "132037fa",
      "metadata": {
        "jupyter": {
          "source_hidden": true
        },
        "id": "132037fa"
      },
      "outputs": [],
      "source": [
        "def test3():\n",
        "    origin = np.identity(4)\n",
        "    result = ht.degreesRotZ(-45)\n",
        "    \n",
        "    \n",
        "    fig, ax = hg.createNewBlank3DFigure(xLim=(-1,1), yLim=(-1,1), zLim =(-1, 1))\n",
        "    hg.draw3DFrame(ax, origin, colorChoice = cp.seven)\n",
        "    hg.draw3DFrame(ax, result, labelExtra = \"'\", colorChoice=cp.six, labelOffset = 0.75, originLabel = \"hithere\")\n",
        "   \n",
        "    plt.show()\n",
        "    \n",
        "test3()"
      ]
    },
    {
      "cell_type": "markdown",
      "id": "d4d200ab",
      "metadata": {
        "id": "d4d200ab"
      },
      "source": [
        "# Multiple Graphs That Share The Same Axis\n",
        "\n",
        "There's nothing really magic here, we're just going to use a global variable for the axis. But it feels weird in Jupyter.\n",
        "\n",
        "It's not clear to me why we don't have to issue the plt.show() command. Maybe we never had to do that..."
      ]
    },
    {
      "cell_type": "code",
      "execution_count": null,
      "id": "996c54f6",
      "metadata": {
        "id": "996c54f6"
      },
      "outputs": [],
      "source": [
        "# Here's our global variables\n",
        "figSpecial, axSpecial = hg.createNewBlank3DFigure(xLim=(-1,1), yLim=(-1,1), zLim =(-1, 1))\n",
        "\n",
        "# And some functions\n",
        "def test1Part1(ax):\n",
        "    origin = np.identity(4)\n",
        "    hg.draw3DFrame(ax, origin, labelExtra=\"-origin\", colorChoice=cp.two, labelOffset = 0.75)\n",
        "    \n",
        "    \n",
        "def test1Part2(ax):\n",
        "    thing = ht.doTrans(0.5, 0.75, 0)\n",
        "    hg.draw3DFrame(ax, thing, labelExtra=\"-thing\",colorChoice=cp.three)\n",
        "    "
      ]
    },
    {
      "cell_type": "markdown",
      "source": [
        "# Note that the next two functions modify the figure above"
      ],
      "metadata": {
        "id": "gEMiWcEPL7_x"
      },
      "id": "gEMiWcEPL7_x"
    },
    {
      "cell_type": "code",
      "execution_count": null,
      "id": "bd344c06",
      "metadata": {
        "id": "bd344c06"
      },
      "outputs": [],
      "source": [
        "test1Part1(axSpecial)"
      ]
    },
    {
      "cell_type": "code",
      "execution_count": null,
      "id": "c3af6dae",
      "metadata": {
        "id": "c3af6dae"
      },
      "outputs": [],
      "source": [
        "test1Part2(axSpecial)"
      ]
    }
  ],
  "metadata": {
    "kernelspec": {
      "display_name": "Python 3 (ipykernel)",
      "language": "python",
      "name": "python3"
    },
    "language_info": {
      "codemirror_mode": {
        "name": "ipython",
        "version": 3
      },
      "file_extension": ".py",
      "mimetype": "text/x-python",
      "name": "python",
      "nbconvert_exporter": "python",
      "pygments_lexer": "ipython3",
      "version": "3.9.7"
    },
    "colab": {
      "provenance": [],
      "collapsed_sections": []
    }
  },
  "nbformat": 4,
  "nbformat_minor": 5
}